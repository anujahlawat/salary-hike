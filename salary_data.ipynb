{
 "cells": [
  {
   "cell_type": "code",
   "execution_count": 1,
   "id": "fbaa3a18",
   "metadata": {},
   "outputs": [],
   "source": [
    "import pandas as pd\n",
    "import numpy as np\n",
    "import matplotlib.pyplot as plt\n",
    "import matplotlib\n",
    "import seaborn as sns              #load the libraries"
   ]
  },
  {
   "cell_type": "code",
   "execution_count": 2,
   "id": "6b83626d",
   "metadata": {},
   "outputs": [
    {
     "data": {
      "text/html": [
       "<div>\n",
       "<style scoped>\n",
       "    .dataframe tbody tr th:only-of-type {\n",
       "        vertical-align: middle;\n",
       "    }\n",
       "\n",
       "    .dataframe tbody tr th {\n",
       "        vertical-align: top;\n",
       "    }\n",
       "\n",
       "    .dataframe thead th {\n",
       "        text-align: right;\n",
       "    }\n",
       "</style>\n",
       "<table border=\"1\" class=\"dataframe\">\n",
       "  <thead>\n",
       "    <tr style=\"text-align: right;\">\n",
       "      <th></th>\n",
       "      <th>YearsExperience</th>\n",
       "      <th>Salary</th>\n",
       "    </tr>\n",
       "  </thead>\n",
       "  <tbody>\n",
       "    <tr>\n",
       "      <th>0</th>\n",
       "      <td>1.1</td>\n",
       "      <td>39343.0</td>\n",
       "    </tr>\n",
       "    <tr>\n",
       "      <th>1</th>\n",
       "      <td>1.3</td>\n",
       "      <td>46205.0</td>\n",
       "    </tr>\n",
       "    <tr>\n",
       "      <th>2</th>\n",
       "      <td>1.5</td>\n",
       "      <td>37731.0</td>\n",
       "    </tr>\n",
       "    <tr>\n",
       "      <th>3</th>\n",
       "      <td>2.0</td>\n",
       "      <td>43525.0</td>\n",
       "    </tr>\n",
       "    <tr>\n",
       "      <th>4</th>\n",
       "      <td>2.2</td>\n",
       "      <td>39891.0</td>\n",
       "    </tr>\n",
       "  </tbody>\n",
       "</table>\n",
       "</div>"
      ],
      "text/plain": [
       "   YearsExperience   Salary\n",
       "0              1.1  39343.0\n",
       "1              1.3  46205.0\n",
       "2              1.5  37731.0\n",
       "3              2.0  43525.0\n",
       "4              2.2  39891.0"
      ]
     },
     "execution_count": 2,
     "metadata": {},
     "output_type": "execute_result"
    }
   ],
   "source": [
    "data = pd.read_csv(\"salary_data.csv\") #reading csv file\n",
    "data.head()"
   ]
  },
  {
   "cell_type": "markdown",
   "id": "564668ab",
   "metadata": {},
   "source": [
    "# Performing EDA"
   ]
  },
  {
   "cell_type": "markdown",
   "id": "04285398",
   "metadata": {},
   "source": [
    "### 1. Knowing general information and getting data ready"
   ]
  },
  {
   "cell_type": "code",
   "execution_count": 3,
   "id": "8982f253",
   "metadata": {},
   "outputs": [],
   "source": [
    "# data.shape               #it tells about no. of records and features\n",
    "# data.columns             #determines column names\n",
    "# data.dtypes              #checking data types\n",
    "# data.isna().sum()        #checking --- is there any null value or not"
   ]
  },
  {
   "cell_type": "code",
   "execution_count": 4,
   "id": "d9c4ce8b",
   "metadata": {},
   "outputs": [
    {
     "name": "stdout",
     "output_type": "stream",
     "text": [
      "<class 'pandas.core.frame.DataFrame'>\n",
      "RangeIndex: 30 entries, 0 to 29\n",
      "Data columns (total 2 columns):\n",
      " #   Column           Non-Null Count  Dtype  \n",
      "---  ------           --------------  -----  \n",
      " 0   YearsExperience  30 non-null     float64\n",
      " 1   Salary           30 non-null     float64\n",
      "dtypes: float64(2)\n",
      "memory usage: 608.0 bytes\n"
     ]
    }
   ],
   "source": [
    "data.info()               #gives information about data"
   ]
  },
  {
   "cell_type": "code",
   "execution_count": 5,
   "id": "066cf6ba",
   "metadata": {},
   "outputs": [
    {
     "data": {
      "text/plain": [
       "(0, 2)"
      ]
     },
     "execution_count": 5,
     "metadata": {},
     "output_type": "execute_result"
    }
   ],
   "source": [
    "data[data.duplicated()].shape       #checking no. of duplicate records"
   ]
  },
  {
   "cell_type": "code",
   "execution_count": 6,
   "id": "0477570b",
   "metadata": {},
   "outputs": [
    {
     "data": {
      "text/html": [
       "<div>\n",
       "<style scoped>\n",
       "    .dataframe tbody tr th:only-of-type {\n",
       "        vertical-align: middle;\n",
       "    }\n",
       "\n",
       "    .dataframe tbody tr th {\n",
       "        vertical-align: top;\n",
       "    }\n",
       "\n",
       "    .dataframe thead th {\n",
       "        text-align: right;\n",
       "    }\n",
       "</style>\n",
       "<table border=\"1\" class=\"dataframe\">\n",
       "  <thead>\n",
       "    <tr style=\"text-align: right;\">\n",
       "      <th></th>\n",
       "      <th>YearsExperience</th>\n",
       "      <th>Salary</th>\n",
       "    </tr>\n",
       "  </thead>\n",
       "  <tbody>\n",
       "    <tr>\n",
       "      <th>count</th>\n",
       "      <td>30.000000</td>\n",
       "      <td>30.000000</td>\n",
       "    </tr>\n",
       "    <tr>\n",
       "      <th>mean</th>\n",
       "      <td>5.313333</td>\n",
       "      <td>76003.000000</td>\n",
       "    </tr>\n",
       "    <tr>\n",
       "      <th>std</th>\n",
       "      <td>2.837888</td>\n",
       "      <td>27414.429785</td>\n",
       "    </tr>\n",
       "    <tr>\n",
       "      <th>min</th>\n",
       "      <td>1.100000</td>\n",
       "      <td>37731.000000</td>\n",
       "    </tr>\n",
       "    <tr>\n",
       "      <th>25%</th>\n",
       "      <td>3.200000</td>\n",
       "      <td>56720.750000</td>\n",
       "    </tr>\n",
       "    <tr>\n",
       "      <th>50%</th>\n",
       "      <td>4.700000</td>\n",
       "      <td>65237.000000</td>\n",
       "    </tr>\n",
       "    <tr>\n",
       "      <th>75%</th>\n",
       "      <td>7.700000</td>\n",
       "      <td>100544.750000</td>\n",
       "    </tr>\n",
       "    <tr>\n",
       "      <th>max</th>\n",
       "      <td>10.500000</td>\n",
       "      <td>122391.000000</td>\n",
       "    </tr>\n",
       "  </tbody>\n",
       "</table>\n",
       "</div>"
      ],
      "text/plain": [
       "       YearsExperience         Salary\n",
       "count        30.000000      30.000000\n",
       "mean          5.313333   76003.000000\n",
       "std           2.837888   27414.429785\n",
       "min           1.100000   37731.000000\n",
       "25%           3.200000   56720.750000\n",
       "50%           4.700000   65237.000000\n",
       "75%           7.700000  100544.750000\n",
       "max          10.500000  122391.000000"
      ]
     },
     "execution_count": 6,
     "metadata": {},
     "output_type": "execute_result"
    }
   ],
   "source": [
    "data.describe()                     #gives description about data"
   ]
  },
  {
   "cell_type": "markdown",
   "id": "e3a7fd36",
   "metadata": {},
   "source": [
    "### 2. data visualization"
   ]
  },
  {
   "cell_type": "markdown",
   "id": "8b7902a6",
   "metadata": {},
   "source": [
    "#### a) scatterplot"
   ]
  },
  {
   "cell_type": "code",
   "execution_count": 7,
   "id": "790ab0a0",
   "metadata": {},
   "outputs": [
    {
     "data": {
      "text/plain": [
       "<AxesSubplot:xlabel='YearsExperience', ylabel='Salary'>"
      ]
     },
     "execution_count": 7,
     "metadata": {},
     "output_type": "execute_result"
    },
    {
     "data": {
      "image/png": "[encoded data removed]",
      "text/plain": [
       "<Figure size 432x288 with 1 Axes>"
      ]
     },
     "metadata": {
      "needs_background": "light"
     },
     "output_type": "display_data"
    }
   ],
   "source": [
    "sns.scatterplot(x=data['YearsExperience'],y = data['Salary'])    #data is scattered along a straight line (linear regression)"
   ]
  },
  {
   "cell_type": "markdown",
   "id": "c783d2f3",
   "metadata": {},
   "source": [
    "#### b) line plot"
   ]
  },
  {
   "cell_type": "code",
   "execution_count": 8,
   "id": "cfbdf4ae",
   "metadata": {},
   "outputs": [
    {
     "data": {
      "text/plain": [
       "[<matplotlib.lines.Line2D at 0x2dbe5330730>]"
      ]
     },
     "execution_count": 8,
     "metadata": {},
     "output_type": "execute_result"
    },
    {
     "data": {
      "image/png": "[encoded data removed]",
      "text/plain": [
       "<Figure size 432x288 with 1 Axes>"
      ]
     },
     "metadata": {
      "needs_background": "light"
     },
     "output_type": "display_data"
    }
   ],
   "source": [
    "plt.plot(data['YearsExperience'],data['Salary'])                  #just ploting how original data's line plot look like"
   ]
  },
  {
   "cell_type": "markdown",
   "id": "70c8e929",
   "metadata": {},
   "source": [
    "#### c) boxplot"
   ]
  },
  {
   "cell_type": "code",
   "execution_count": 9,
   "id": "d8c03ea2",
   "metadata": {},
   "outputs": [
    {
     "data": {
      "image/png": "[encoded data removed]",
      "text/plain": [
       "<Figure size 432x288 with 1 Axes>"
      ]
     },
     "metadata": {
      "needs_background": "light"
     },
     "output_type": "display_data"
    }
   ],
   "source": [
    "box=plt.boxplot(data.Salary)            #checking outliers\n",
    "                                        #here no outlier and curve is right skewed and orange line denotes median"
   ]
  },
  {
   "cell_type": "markdown",
   "id": "0f803438",
   "metadata": {},
   "source": [
    "#### d-1) influential points using cook's distance (method 1)"
   ]
  },
  {
   "cell_type": "code",
   "execution_count": 10,
   "id": "196dc2fb",
   "metadata": {},
   "outputs": [
    {
     "data": {
      "image/png": "[encoded data removed]",
      "text/plain": [
       "<Figure size 1440x504 with 1 Axes>"
      ]
     },
     "metadata": {
      "needs_background": "light"
     },
     "output_type": "display_data"
    },
    {
     "name": "stdout",
     "output_type": "stream",
     "text": [
      "point having maximum cook's distance is : \n"
     ]
    },
    {
     "data": {
      "text/plain": [
       "(23, 0.13175452313135294)"
      ]
     },
     "execution_count": 10,
     "metadata": {},
     "output_type": "execute_result"
    }
   ],
   "source": [
    "import statsmodels.formula.api as smf \n",
    "model = smf.ols('Salary~YearsExperience',data=data).fit()\n",
    "\n",
    "model_influence = model.get_influence()\n",
    "(c , _) = model_influence.cooks_distance\n",
    "\n",
    "fig = plt.subplots(figsize=(20, 7))\n",
    "plt.stem(np.arange(len(data)), np.round(c, 3))\n",
    "plt.xlabel('Row index')\n",
    "plt.ylabel('Cooks Distance')\n",
    "plt.show()\n",
    "\n",
    "print(\"point having maximum cook's distance is : \")\n",
    "(np.argmax(c),np.max(c))      #we got no influential point"
   ]
  },
  {
   "cell_type": "markdown",
   "id": "8d07f611",
   "metadata": {},
   "source": [
    "#### d-2) influential points using bubble method (method 2)"
   ]
  },
  {
   "cell_type": "code",
   "execution_count": 11,
   "id": "1b55fa8c",
   "metadata": {},
   "outputs": [
    {
     "data": {
      "image/png": "[encoded data removed]",
      "text/plain": [
       "<Figure size 432x288 with 1 Axes>"
      ]
     },
     "metadata": {
      "needs_background": "light"
     },
     "output_type": "display_data"
    },
    {
     "name": "stdout",
     "output_type": "stream",
     "text": [
      "leverage_cutoff is :  0.30000000000000004\n"
     ]
    }
   ],
   "source": [
    "from statsmodels.graphics.regressionplots import influence_plot\n",
    "influence_plot(model)\n",
    "plt.show()\n",
    "k = data.shape[1]\n",
    "n = data.shape[0]\n",
    "leverage_cutoff = 3*((k + 1)/n)                               #k = no. of columns ; n = no. of records\n",
    "print(\"leverage_cutoff is : \",leverage_cutoff)                #we got no influential point \n",
    "                                     #point having leverage value greater than leverage cutoff is actually a influential point"
   ]
  },
  {
   "cell_type": "markdown",
   "id": "beda6271",
   "metadata": {},
   "source": [
    "### 3. Correlation"
   ]
  },
  {
   "cell_type": "code",
   "execution_count": 12,
   "id": "b4fe93c0",
   "metadata": {},
   "outputs": [
    {
     "data": {
      "text/html": [
       "<div>\n",
       "<style scoped>\n",
       "    .dataframe tbody tr th:only-of-type {\n",
       "        vertical-align: middle;\n",
       "    }\n",
       "\n",
       "    .dataframe tbody tr th {\n",
       "        vertical-align: top;\n",
       "    }\n",
       "\n",
       "    .dataframe thead th {\n",
       "        text-align: right;\n",
       "    }\n",
       "</style>\n",
       "<table border=\"1\" class=\"dataframe\">\n",
       "  <thead>\n",
       "    <tr style=\"text-align: right;\">\n",
       "      <th></th>\n",
       "      <th>YearsExperience</th>\n",
       "      <th>Salary</th>\n",
       "    </tr>\n",
       "  </thead>\n",
       "  <tbody>\n",
       "    <tr>\n",
       "      <th>YearsExperience</th>\n",
       "      <td>1.000000</td>\n",
       "      <td>0.978242</td>\n",
       "    </tr>\n",
       "    <tr>\n",
       "      <th>Salary</th>\n",
       "      <td>0.978242</td>\n",
       "      <td>1.000000</td>\n",
       "    </tr>\n",
       "  </tbody>\n",
       "</table>\n",
       "</div>"
      ],
      "text/plain": [
       "                 YearsExperience    Salary\n",
       "YearsExperience         1.000000  0.978242\n",
       "Salary                  0.978242  1.000000"
      ]
     },
     "execution_count": 12,
     "metadata": {},
     "output_type": "execute_result"
    }
   ],
   "source": [
    "data.corr()                                  #if we got good correlation between x and y then we can go for model building"
   ]
  },
  {
   "cell_type": "markdown",
   "id": "8725a164",
   "metadata": {},
   "source": [
    "# fitting of simple linear regression"
   ]
  },
  {
   "cell_type": "markdown",
   "id": "af4caa83",
   "metadata": {},
   "source": [
    "### 1. ols method (using statmodels package)"
   ]
  },
  {
   "cell_type": "markdown",
   "id": "26470921",
   "metadata": {},
   "source": [
    "#### a) building model"
   ]
  },
  {
   "cell_type": "code",
   "execution_count": 13,
   "id": "c804c698",
   "metadata": {},
   "outputs": [
    {
     "name": "stdout",
     "output_type": "stream",
     "text": [
      "                            OLS Regression Results                            \n",
      "==============================================================================\n",
      "Dep. Variable:                 Salary   R-squared:                       0.957\n",
      "Model:                            OLS   Adj. R-squared:                  0.955\n",
      "Method:                 Least Squares   F-statistic:                     622.5\n",
      "Date:                Thu, 15 Sep 2022   Prob (F-statistic):           1.14e-20\n",
      "Time:                        03:14:01   Log-Likelihood:                -301.44\n",
      "No. Observations:                  30   AIC:                             606.9\n",
      "Df Residuals:                      28   BIC:                             609.7\n",
      "Df Model:                           1                                         \n",
      "Covariance Type:            nonrobust                                         \n",
      "===================================================================================\n",
      "                      coef    std err          t      P>|t|      [0.025      0.975]\n",
      "-----------------------------------------------------------------------------------\n",
      "Intercept        2.579e+04   2273.053     11.347      0.000    2.11e+04    3.04e+04\n",
      "YearsExperience  9449.9623    378.755     24.950      0.000    8674.119    1.02e+04\n",
      "==============================================================================\n",
      "Omnibus:                        2.140   Durbin-Watson:                   1.648\n",
      "Prob(Omnibus):                  0.343   Jarque-Bera (JB):                1.569\n",
      "Skew:                           0.363   Prob(JB):                        0.456\n",
      "Kurtosis:                       2.147   Cond. No.                         13.2\n",
      "==============================================================================\n",
      "\n",
      "Notes:\n",
      "[1] Standard Errors assume that the covariance matrix of the errors is correctly specified.\n"
     ]
    }
   ],
   "source": [
    "import statsmodels.formula.api as sms\n",
    "model = sms.ols(\"Salary~YearsExperience\",data=data).fit()           #we cann't use y~x in case of ols method\n",
    "print(model.summary())\n",
    "\n",
    "#we get good value for R-squared\n",
    "#\n",
    "#null hypothesis : beta_1 (coeff. of YearsExperience) = 0\n",
    "#alternate hypothesis : beta_1 != 0\n",
    "#p-low  null-go , hence null hypothesis rejected and alternate hypothesis accepted it means there is a relation between x and y\n",
    "#note : x = YearsExperience    y = Salary"
   ]
  },
  {
   "cell_type": "markdown",
   "id": "97812aa9",
   "metadata": {},
   "source": [
    "#### b) prediction for given data"
   ]
  },
  {
   "cell_type": "code",
   "execution_count": 14,
   "id": "49153248",
   "metadata": {},
   "outputs": [
    {
     "name": "stdout",
     "output_type": "stream",
     "text": [
      "   YearsExperience   Salary  predicted_sal\n",
      "0              1.1  39343.0   36187.158752\n",
      "1              1.3  46205.0   38077.151217\n",
      "2              1.5  37731.0   39967.143681\n",
      "3              2.0  43525.0   44692.124842\n",
      "4              2.2  39891.0   46582.117306\n"
     ]
    },
    {
     "data": {
      "text/plain": [
       "[<matplotlib.lines.Line2D at 0x2dbe5ef3a60>]"
      ]
     },
     "execution_count": 14,
     "metadata": {},
     "output_type": "execute_result"
    },
    {
     "data": {
      "image/png": "[encoded data removed]",
      "text/plain": [
       "<Figure size 432x288 with 1 Axes>"
      ]
     },
     "metadata": {
      "needs_background": "light"
     },
     "output_type": "display_data"
    }
   ],
   "source": [
    "pred = model.predict(data[\"YearsExperience\"])\n",
    "predicted_sal = pd.Series(data = pred,name='predicted_sal')\n",
    "\n",
    "data1=pd.concat([data,predicted_sal],axis=1)\n",
    "print(data1.head())\n",
    "\n",
    "plt.scatter(data[\"YearsExperience\"], data[\"Salary\"], color='red')\n",
    "plt.plot(data[\"YearsExperience\"],pred)"
   ]
  },
  {
   "cell_type": "markdown",
   "id": "100fa70d",
   "metadata": {},
   "source": [
    "#### c) prediction for new value"
   ]
  },
  {
   "cell_type": "code",
   "execution_count": 15,
   "id": "81f3e544",
   "metadata": {},
   "outputs": [],
   "source": [
    "# value = float(input(\"enter experience for which you want to find salary \"))   #here float is used for ols method only\n",
    "# valueseries=pd.Series([value])\n",
    "# valuedf=pd.DataFrame(valueseries,columns=['YearsExperience'])\n",
    "# valuedf\n",
    "\n",
    "# salary=model.predict(valuedf)\n",
    "# print(\"salary for experience : \",value, \" years is : \",salary)"
   ]
  },
  {
   "cell_type": "markdown",
   "id": "faea3d95",
   "metadata": {},
   "source": [
    "### 2. LeaveOneOut Model Validation Technique"
   ]
  },
  {
   "cell_type": "code",
   "execution_count": 16,
   "id": "e2a43770",
   "metadata": {},
   "outputs": [],
   "source": [
    "x = data.iloc[:, :-1].values    #separating the dependent and independent features \n",
    "                                #[note:here -1 indicates till 2nd last column]\n",
    "y = data.iloc[:, -1].values     #x - year of experience (independent); y - salary (dependent)\n",
    "                                #[note:y's value row vector ki form m likhte h]"
   ]
  },
  {
   "cell_type": "markdown",
   "id": "d0640626",
   "metadata": {},
   "source": [
    "#### a) building model"
   ]
  },
  {
   "cell_type": "code",
   "execution_count": 17,
   "id": "40c5bd12",
   "metadata": {},
   "outputs": [
    {
     "name": "stdout",
     "output_type": "stream",
     "text": [
      "LeaveOneOut()\n",
      "[0.42772573 0.63293326 0.71542639]\n"
     ]
    },
    {
     "data": {
      "text/plain": [
       "59.20284587713647"
      ]
     },
     "execution_count": 17,
     "metadata": {},
     "output_type": "execute_result"
    }
   ],
   "source": [
    "from sklearn.model_selection import LeaveOneOut\n",
    "from sklearn.model_selection import cross_val_score\n",
    "from sklearn.linear_model import LinearRegression\n",
    "loocv = LeaveOneOut()\n",
    "loocv.get_n_splits(x)\n",
    "print(loocv)\n",
    "model = LinearRegression()\n",
    "model.fit(x,y)\n",
    "results = cross_val_score(model, x, y, cv=3)\n",
    "print(results)\n",
    "results.mean()*100.0"
   ]
  },
  {
   "cell_type": "markdown",
   "id": "3fb4ad13",
   "metadata": {},
   "source": [
    "#### b) prediction for given data"
   ]
  },
  {
   "cell_type": "code",
   "execution_count": 18,
   "id": "12e5851e",
   "metadata": {},
   "outputs": [
    {
     "name": "stdout",
     "output_type": "stream",
     "text": [
      "   YearsExperience   Salary  predicted_sal\n",
      "0              1.1  39343.0   36187.158752\n",
      "1              1.3  46205.0   38077.151217\n",
      "2              1.5  37731.0   39967.143681\n",
      "3              2.0  43525.0   44692.124842\n",
      "4              2.2  39891.0   46582.117306\n"
     ]
    },
    {
     "data": {
      "text/plain": [
       "[<matplotlib.lines.Line2D at 0x2dbe66f7c70>]"
      ]
     },
     "execution_count": 18,
     "metadata": {},
     "output_type": "execute_result"
    },
    {
     "data": {
      "image/png": "[encoded data removed]",
      "text/plain": [
       "<Figure size 432x288 with 1 Axes>"
      ]
     },
     "metadata": {
      "needs_background": "light"
     },
     "output_type": "display_data"
    }
   ],
   "source": [
    "pred = model.predict(x)\n",
    "predicted_sal = pd.Series(data = pred,name='predicted_sal')\n",
    "\n",
    "data1=pd.concat([data,predicted_sal],axis=1)\n",
    "print(data1.head())\n",
    "\n",
    "plt.scatter(x, y, color='red')\n",
    "plt.plot(x,pred)"
   ]
  },
  {
   "cell_type": "markdown",
   "id": "b815fc8e",
   "metadata": {},
   "source": [
    "#### c) prediction for new value"
   ]
  },
  {
   "cell_type": "code",
   "execution_count": 19,
   "id": "b9e17500",
   "metadata": {},
   "outputs": [],
   "source": [
    "# value = input(\"enter experience for which you want to find salary\")\n",
    "# valueseries=pd.Series([value])\n",
    "# valuedf=pd.DataFrame(valueseries,columns=['experience'])\n",
    "# valuedf\n",
    "\n",
    "# salary=model.predict(valuedf)\n",
    "# print(\"salary for person having\",value, \"experience is : \",salary)"
   ]
  },
  {
   "cell_type": "markdown",
   "id": "26b68260",
   "metadata": {},
   "source": [
    "### 3. KFold Model Validation Technique"
   ]
  },
  {
   "cell_type": "code",
   "execution_count": 20,
   "id": "03f2ef2f",
   "metadata": {},
   "outputs": [],
   "source": [
    "x = data.iloc[:, :-1].values    #separating the dependent and independent features \n",
    "                                #[note:here -1 indicates till 2nd last column]\n",
    "y = data.iloc[:, -1].values     #x - year of experience (independent); y - salary (dependent)\n",
    "                                #[note:y's value row vector ki form m likhte h]"
   ]
  },
  {
   "cell_type": "markdown",
   "id": "04fd84fa",
   "metadata": {},
   "source": [
    "#### a) building model"
   ]
  },
  {
   "cell_type": "code",
   "execution_count": 21,
   "id": "a6f720f3",
   "metadata": {},
   "outputs": [
    {
     "name": "stdout",
     "output_type": "stream",
     "text": [
      "[0.90244618 0.96846325 0.91621488 0.98161851 0.84333552]\n"
     ]
    },
    {
     "data": {
      "text/plain": [
       "92.2415665403513"
      ]
     },
     "execution_count": 21,
     "metadata": {},
     "output_type": "execute_result"
    }
   ],
   "source": [
    "from sklearn.model_selection import KFold\n",
    "from sklearn.model_selection import cross_val_score\n",
    "from sklearn.linear_model import LinearRegression\n",
    "kfold = KFold(n_splits=5,shuffle=True, random_state=42)\n",
    "model = LinearRegression()\n",
    "model.fit(x,y)\n",
    "results = cross_val_score(model, x, y, cv=kfold)\n",
    "print(results)\n",
    "results.mean()*100.0"
   ]
  },
  {
   "cell_type": "markdown",
   "id": "674fc880",
   "metadata": {},
   "source": [
    "#### b) prediction for given data"
   ]
  },
  {
   "cell_type": "code",
   "execution_count": 22,
   "id": "b5b75726",
   "metadata": {},
   "outputs": [
    {
     "name": "stdout",
     "output_type": "stream",
     "text": [
      "   YearsExperience   Salary  predicted_sal\n",
      "0              1.1  39343.0   36187.158752\n",
      "1              1.3  46205.0   38077.151217\n",
      "2              1.5  37731.0   39967.143681\n",
      "3              2.0  43525.0   44692.124842\n",
      "4              2.2  39891.0   46582.117306\n"
     ]
    },
    {
     "data": {
      "text/plain": [
       "[<matplotlib.lines.Line2D at 0x2dbe676d340>]"
      ]
     },
     "execution_count": 22,
     "metadata": {},
     "output_type": "execute_result"
    },
    {
     "data": {
      "image/png": "[encoded data removed]",
      "text/plain": [
       "<Figure size 432x288 with 1 Axes>"
      ]
     },
     "metadata": {
      "needs_background": "light"
     },
     "output_type": "display_data"
    }
   ],
   "source": [
    "pred = model.predict(x)\n",
    "predicted_sal = pd.Series(data = pred,name='predicted_sal')\n",
    "\n",
    "data1=pd.concat([data,predicted_sal],axis=1)\n",
    "print(data1.head())\n",
    "\n",
    "plt.scatter(x, y, color='red')\n",
    "plt.plot(x,pred)"
   ]
  },
  {
   "cell_type": "markdown",
   "id": "f6be2bc0",
   "metadata": {},
   "source": [
    "#### c) prediction for new value"
   ]
  },
  {
   "cell_type": "code",
   "execution_count": 23,
   "id": "09f81608",
   "metadata": {},
   "outputs": [],
   "source": [
    "# value = input(\"enter experience for which you want to find salary\")\n",
    "# valueseries=pd.Series([value])\n",
    "# valuedf=pd.DataFrame(valueseries,columns=['experience'])\n",
    "# valuedf\n",
    "\n",
    "# salary=model.predict(valuedf)\n",
    "# print(\"salary for person having\",value, \"experience is : \",salary)"
   ]
  },
  {
   "cell_type": "markdown",
   "id": "36ca7992",
   "metadata": {},
   "source": [
    "### 4. train_test_split Model Validation Technique"
   ]
  },
  {
   "cell_type": "code",
   "execution_count": 24,
   "id": "ade4c109",
   "metadata": {},
   "outputs": [],
   "source": [
    "x = data.iloc[:, :-1].values    #separating the dependent and independent features \n",
    "                                #[note:here -1 indicates till 2nd last column]\n",
    "y = data.iloc[:, -1].values     #x - year of experience (independent); y - salary (dependent)\n",
    "                                #[note:y's value row vector ki form m likhte h]"
   ]
  },
  {
   "cell_type": "markdown",
   "id": "93a6788a",
   "metadata": {},
   "source": [
    "#### a) building model"
   ]
  },
  {
   "cell_type": "code",
   "execution_count": 25,
   "id": "ecef68b6",
   "metadata": {},
   "outputs": [
    {
     "name": "stdout",
     "output_type": "stream",
     "text": [
      "0.9588633130416467\n",
      "0.8143022783109005\n"
     ]
    }
   ],
   "source": [
    "from sklearn.model_selection import train_test_split\n",
    "from sklearn.linear_model import LinearRegression\n",
    "X_train, X_test, Y_train, Y_test = train_test_split(x, y, test_size=0.20,random_state=7)\n",
    "model = LinearRegression()\n",
    "model.fit(X_train, Y_train)\n",
    "result1 = model.score(X_train, Y_train)\n",
    "result2 = model.score(X_test, Y_test)\n",
    "print(result1)\n",
    "print(result2)"
   ]
  },
  {
   "cell_type": "markdown",
   "id": "8f5dff92",
   "metadata": {},
   "source": [
    "#### b) prediction for given data"
   ]
  },
  {
   "cell_type": "code",
   "execution_count": 26,
   "id": "7e455dce",
   "metadata": {},
   "outputs": [
    {
     "name": "stdout",
     "output_type": "stream",
     "text": [
      "   YearsExperience   Salary  predicted_sal\n",
      "0              1.1  39343.0   35474.515541\n",
      "1              1.3  46205.0   37385.368782\n",
      "2              1.5  37731.0   39296.222022\n",
      "3              2.0  43525.0   44073.355124\n",
      "4              2.2  39891.0   45984.208364\n"
     ]
    },
    {
     "data": {
      "text/plain": [
       "[<matplotlib.lines.Line2D at 0x2dbe5e6d550>]"
      ]
     },
     "execution_count": 26,
     "metadata": {},
     "output_type": "execute_result"
    },
    {
     "data": {
      "image/png": "[encoded data removed]",
      "text/plain": [
       "<Figure size 432x288 with 1 Axes>"
      ]
     },
     "metadata": {
      "needs_background": "light"
     },
     "output_type": "display_data"
    }
   ],
   "source": [
    "pred = model.predict(x)\n",
    "predicted_sal = pd.Series(data = pred,name='predicted_sal')\n",
    "\n",
    "data1=pd.concat([data,predicted_sal],axis=1)\n",
    "print(data1.head())\n",
    "\n",
    "plt.scatter(x, y, color='red')\n",
    "plt.plot(x,pred)"
   ]
  },
  {
   "cell_type": "markdown",
   "id": "7fa55428",
   "metadata": {},
   "source": [
    "#### c) prediction for new value"
   ]
  },
  {
   "cell_type": "code",
   "execution_count": 27,
   "id": "a331bc85",
   "metadata": {},
   "outputs": [],
   "source": [
    "# value = input(\"enter experience for which you want to find salary\")\n",
    "# valueseries=pd.Series([value])\n",
    "# valuedf=pd.DataFrame(valueseries,columns=['experience'])\n",
    "# valuedf\n",
    "\n",
    "# salary=model.predict(valuedf)\n",
    "# print(\"salary for person having\",value, \"experience is : \",salary)"
   ]
  },
  {
   "cell_type": "code",
   "execution_count": null,
   "id": "e22048c8",
   "metadata": {},
   "outputs": [],
   "source": []
  }
 ],
 "metadata": {
  "kernelspec": {
   "display_name": "Python 3 (ipykernel)",
   "language": "python",
   "name": "python3"
  },
  "language_info": {
   "codemirror_mode": {
    "name": "ipython",
    "version": 3
   },
   "file_extension": ".py",
   "mimetype": "text/x-python",
   "name": "python",
   "nbconvert_exporter": "python",
   "pygments_lexer": "ipython3",
   "version": "3.9.7"
  }
 },
 "nbformat": 4,
 "nbformat_minor": 5
}
